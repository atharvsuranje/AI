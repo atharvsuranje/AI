{
 "cells": [
  {
   "cell_type": "code",
   "execution_count": 1,
   "id": "e4930f26",
   "metadata": {},
   "outputs": [
    {
     "name": "stdout",
     "output_type": "stream",
     "text": [
      "Welcome to the Customer Interaction Chatbot!\n",
      "You can start chatting with me. Type 'bye' to exit.\n",
      "You: hi\n",
      "Chatbot: Hello!\n",
      "You: how are you\n",
      "Chatbot: Doing good, how about you?\n",
      "You: hoe are you\n",
      "Chatbot: I'm afraid I don't understand. Could you please rephrase your question?\n",
      "You: bye\n",
      "Chatbot: Goodbye!\n"
     ]
    }
   ],
   "source": [
    "import re\n",
    "import random\n",
    "\n",
    "# Define the chatbot's responses\n",
    "responses = {\n",
    "    r\"hi|hello|hey\": [\"Hello!\", \"Hi there!\", \"Hey!\"],\n",
    "    r\"how are you?\": [\"I'm doing well, thanks for asking!\", \"Doing good, how about you?\"],\n",
    "    r\"what is your name\\??\": [\"My name is Chatbot, nice to meet you!\"],\n",
    "    r\"thank you\": [\"You're welcome!\", \"No problem!\"],\n",
    "    r\"goodbye|bye\": [\"Goodbye!\", \"Take care!\", \"See you later!\"],\n",
    "    r\"default\": [\"I'm afraid I don't understand. Could you please rephrase your question?\"]\n",
    "}\n",
    "\n",
    "def respond(user_input):\n",
    "    \"\"\"\n",
    "    Respond to the user's input based on the defined responses.\n",
    "    \"\"\"\n",
    "    for pattern, responses_list in responses.items():\n",
    "        if re.search(pattern, user_input, re.IGNORECASE):\n",
    "            return random.choice(responses_list)\n",
    "    return responses[\"default\"][0]\n",
    "\n",
    "def main():\n",
    "    print(\"Welcome to the Customer Interaction Chatbot!\")\n",
    "    print(\"You can start chatting with me. Type 'bye' to exit.\")\n",
    "\n",
    "    while True:\n",
    "        user_input = input(\"You: \")\n",
    "        if user_input.lower() == \"bye\":\n",
    "            print(\"Chatbot: Goodbye!\")\n",
    "            break\n",
    "        response = respond(user_input)\n",
    "        print(\"Chatbot:\", response)\n",
    "\n",
    "if __name__ == \"__main__\":\n",
    "    main()\n"
   ]
  },
  {
   "cell_type": "code",
   "execution_count": null,
   "id": "b678a6a8",
   "metadata": {},
   "outputs": [],
   "source": []
  }
 ],
 "metadata": {
  "kernelspec": {
   "display_name": "Python 3 (ipykernel)",
   "language": "python",
   "name": "python3"
  },
  "language_info": {
   "codemirror_mode": {
    "name": "ipython",
    "version": 3
   },
   "file_extension": ".py",
   "mimetype": "text/x-python",
   "name": "python",
   "nbconvert_exporter": "python",
   "pygments_lexer": "ipython3",
   "version": "3.9.7"
  }
 },
 "nbformat": 4,
 "nbformat_minor": 5
}
