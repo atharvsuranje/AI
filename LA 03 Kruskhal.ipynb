{
 "cells": [
  {
   "cell_type": "code",
   "execution_count": 1,
   "id": "4300d064",
   "metadata": {},
   "outputs": [
    {
     "name": "stdout",
     "output_type": "stream",
     "text": [
      "Enter graph details:\n",
      "Enter the number of edges: 4\n",
      "Enter edges in the format 'source destination weight': \n",
      "1 2 10\n",
      "1 3 25\n",
      "2 4 15\n",
      "3 4 5\n",
      "Minimum Spanning Tree edges using Kruskal's algorithm:\n",
      "('3', '4', 5)\n",
      "('1', '2', 10)\n",
      "('2', '4', 15)\n",
      "Total cost of Minimum Spanning Tree: 30\n"
     ]
    }
   ],
   "source": [
    "class Graph:\n",
    "    def __init__(self):\n",
    "        self.graph = []\n",
    "\n",
    "    def add_edge(self, u, v, w):\n",
    "        self.graph.append((u, v, w))\n",
    "\n",
    "    def minimum_spanning_tree(self):\n",
    "        self.graph.sort(key=lambda x: x[2])\n",
    "\n",
    "        parent = {}  \n",
    "        rank = {}    \n",
    "        result = []\n",
    "        total_cost = 0\n",
    "\n",
    "        def find(x):\n",
    "            if parent[x] != x:\n",
    "                parent[x] = find(parent[x])\n",
    "            return parent[x]\n",
    "\n",
    "        def union(x, y):\n",
    "            root_x = find(x)\n",
    "            root_y = find(y)\n",
    "\n",
    "            if rank[root_x] < rank[root_y]:\n",
    "                parent[root_x] = root_y\n",
    "            elif rank[root_x] > rank[root_y]:\n",
    "                parent[root_y] = root_x\n",
    "            else:\n",
    "                parent[root_y] = root_x\n",
    "                rank[root_x] += 1\n",
    "\n",
    "        for u, v, w in self.graph:\n",
    "            if u not in parent:\n",
    "                parent[u] = u\n",
    "                rank[u] = 0\n",
    "            if v not in parent:\n",
    "                parent[v] = v\n",
    "                rank[v] = 0\n",
    "\n",
    "            if find(u) != find(v):\n",
    "                union(u, v)\n",
    "                result.append((u, v, w))\n",
    "                total_cost += w\n",
    "\n",
    "        return result, total_cost\n",
    "\n",
    "def take_input():\n",
    "    edges = int(input(\"Enter the number of edges: \"))\n",
    "    g = Graph()\n",
    "    print(\"Enter edges in the format 'source destination weight': \")\n",
    "    for _ in range(edges):\n",
    "        u, v, w = input().split()\n",
    "        g.add_edge(u, v, int(w))\n",
    "    return g\n",
    "\n",
    "print(\"Enter graph details:\")\n",
    "graph = take_input()\n",
    "mst_edges, total_cost = graph.minimum_spanning_tree()\n",
    "print(\"Minimum Spanning Tree edges using Kruskal's algorithm:\")\n",
    "for edge in mst_edges:\n",
    "    print(edge)\n",
    "print(\"Total cost of Minimum Spanning Tree:\", total_cost)\n"
   ]
  },
  {
   "cell_type": "code",
   "execution_count": null,
   "id": "272ce7d5",
   "metadata": {},
   "outputs": [],
   "source": []
  }
 ],
 "metadata": {
  "kernelspec": {
   "display_name": "Python 3 (ipykernel)",
   "language": "python",
   "name": "python3"
  },
  "language_info": {
   "codemirror_mode": {
    "name": "ipython",
    "version": 3
   },
   "file_extension": ".py",
   "mimetype": "text/x-python",
   "name": "python",
   "nbconvert_exporter": "python",
   "pygments_lexer": "ipython3",
   "version": "3.9.7"
  }
 },
 "nbformat": 4,
 "nbformat_minor": 5
}
