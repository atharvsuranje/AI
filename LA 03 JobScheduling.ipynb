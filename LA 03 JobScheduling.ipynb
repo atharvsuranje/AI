{
 "cells": [
  {
   "cell_type": "code",
   "execution_count": null,
   "id": "286ec1bc",
   "metadata": {},
   "outputs": [],
   "source": [
    "def job_scheduling(jobs):\n",
    "    jobs.sort(key=lambda x: x[2], reverse=True)\n",
    "    max_deadline = max(jobs, key=lambda x: x[1])[1]\n",
    "    result = [-1] * (max_deadline + 1)\n",
    "    total_profit = 0\n",
    "    for job in jobs:\n",
    "        for j in range(job[1], 0, -1):\n",
    "            if result[j] == -1:\n",
    "                result[j] = job[0]\n",
    "                total_profit += job[2]\n",
    "                break\n",
    "    return result[1:], total_profit\n",
    "\n",
    "def take_input():\n",
    "    jobs = []\n",
    "    n = int(input(\"Enter the number of jobs: \"))\n",
    "    for i in range(n):\n",
    "        name = input(\"Enter job name: \")\n",
    "        deadline = int(input(\"Enter deadline for job {}: \".format(name)))\n",
    "        profit = int(input(\"Enter profit for job {}: \".format(name)))\n",
    "        jobs.append((name, deadline, profit))\n",
    "    return jobs\n",
    "\n",
    "print(\"Enter details for each job:\")\n",
    "jobs = take_input()\n",
    "schedule, total_profit = job_scheduling(jobs)\n",
    "print(\"Scheduled Jobs:\", schedule)\n",
    "print(\"Total profit:\", total_profit)\n"
   ]
  }
 ],
 "metadata": {
  "kernelspec": {
   "display_name": "Python 3 (ipykernel)",
   "language": "python",
   "name": "python3"
  },
  "language_info": {
   "codemirror_mode": {
    "name": "ipython",
    "version": 3
   },
   "file_extension": ".py",
   "mimetype": "text/x-python",
   "name": "python",
   "nbconvert_exporter": "python",
   "pygments_lexer": "ipython3",
   "version": "3.9.7"
  }
 },
 "nbformat": 4,
 "nbformat_minor": 5
}
