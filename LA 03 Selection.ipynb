{
 "cells": [
  {
   "cell_type": "code",
   "execution_count": null,
   "id": "45326032",
   "metadata": {},
   "outputs": [],
   "source": [
    "def selection_sort(arr):\n",
    "    n = len(arr)\n",
    "    for i in range(n - 1):\n",
    "        small = i  \n",
    "        for j in range(i + 1, n):\n",
    "            if arr[j] < arr[small]:\n",
    "                small = j\n",
    "        arr[i], arr[small] = arr[small], arr[i]\n",
    "\n",
    "def print_arr(arr):\n",
    "    for elem in arr:\n",
    "        print(elem, end=\" \")\n",
    "    print()\n",
    "\n",
    "if __name__ == \"__main__\":\n",
    "    n = int(input(\"Enter the number of elements in the array: \"))\n",
    "    arr = []\n",
    "    print(\"Enter the elements of the array:\")\n",
    "    for _ in range(n):\n",
    "        elem = int(input())\n",
    "        arr.append(elem)\n",
    "\n",
    "    print(\"Before sorting array elements are - \")\n",
    "    print_arr(arr)\n",
    "    selection_sort(arr)\n",
    "    print(\"After sorting array elements are - \")\n",
    "    print_arr(arr)\n"
   ]
  }
 ],
 "metadata": {
  "kernelspec": {
   "display_name": "Python 3 (ipykernel)",
   "language": "python",
   "name": "python3"
  },
  "language_info": {
   "codemirror_mode": {
    "name": "ipython",
    "version": 3
   },
   "file_extension": ".py",
   "mimetype": "text/x-python",
   "name": "python",
   "nbconvert_exporter": "python",
   "pygments_lexer": "ipython3",
   "version": "3.9.7"
  }
 },
 "nbformat": 4,
 "nbformat_minor": 5
}
