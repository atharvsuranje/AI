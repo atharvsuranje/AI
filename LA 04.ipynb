{
 "cells": [
  {
   "cell_type": "code",
   "execution_count": 1,
   "id": "cdee79ab",
   "metadata": {},
   "outputs": [
    {
     "name": "stdout",
     "output_type": "stream",
     "text": [
      "Enter the number of vertices: 4\n",
      "Enter the adjacency matrix for the graph (0 for no edge, 1 for edge):\n",
      "0 0 0 1\n",
      "0 0 0 1\n",
      "0 0 0 1\n",
      "1 1 1 0\n",
      "Enter the maximum number of colors allowed: 3\n",
      "The assigned colors are as follows:\n",
      "Vertex: 0 Color: 1\n",
      "Vertex: 1 Color: 1\n",
      "Vertex: 2 Color: 1\n",
      "Vertex: 3 Color: 2\n",
      "Coloring is possible!\n"
     ]
    }
   ],
   "source": [
    "def printConfiguration(colorArray):\n",
    "    print(\"The assigned colors are as follows:\")\n",
    "    for i in range(len(colorArray)):\n",
    "        print(\"Vertex:\", i, \"Color:\", colorArray[i])\n",
    "def isSafe(graph, colorArray):\n",
    "    for i in range(len(graph)):\n",
    "        for j in range(i + 1, len(graph)):\n",
    "            if graph[i][j] and colorArray[j] == colorArray[i]:\n",
    "                return False\n",
    "    return True\n",
    "def graphColoringAlgorithm(graph, m, i, colorArray):\n",
    "    if i == len(graph):\n",
    "        if isSafe(graph, colorArray):\n",
    "            printConfiguration(colorArray)\n",
    "            return True\n",
    "        return False\n",
    "\n",
    "    for j in range(1, m + 1):\n",
    "        colorArray[i] = j\n",
    "        if graphColoringAlgorithm(graph, m, i + 1, colorArray):\n",
    "            return True\n",
    "        colorArray[i] = 0\n",
    "    return False\n",
    "\n",
    "\n",
    "if __name__ == '__main__':\n",
    "    num_vertices = int(input(\"Enter the number of vertices: \"))\n",
    "    graph = []\n",
    "    print(\"Enter the adjacency matrix for the graph (0 for no edge, 1 for edge):\")\n",
    "    for _ in range(num_vertices):\n",
    "        graph.append(list(map(int, input().split())))\n",
    "    m = int(input(\"Enter the maximum number of colors allowed: \"))\n",
    "\n",
    "    colorArray = [0] * num_vertices\n",
    "\n",
    "    if graphColoringAlgorithm(graph, m, 0, colorArray):\n",
    "        print(\"Coloring is possible!\")\n",
    "    else:\n",
    "        print(\"Coloring is not possible!\")\n"
   ]
  },
  {
   "cell_type": "code",
   "execution_count": 6,
   "id": "a71618a6",
   "metadata": {},
   "outputs": [],
   "source": [
    "def prit():2\n",
    "    print(\"hello\")\n"
   ]
  },
  {
   "cell_type": "code",
   "execution_count": null,
   "id": "e59d7837",
   "metadata": {},
   "outputs": [],
   "source": []
  }
 ],
 "metadata": {
  "kernelspec": {
   "display_name": "Python 3 (ipykernel)",
   "language": "python",
   "name": "python3"
  },
  "language_info": {
   "codemirror_mode": {
    "name": "ipython",
    "version": 3
   },
   "file_extension": ".py",
   "mimetype": "text/x-python",
   "name": "python",
   "nbconvert_exporter": "python",
   "pygments_lexer": "ipython3",
   "version": "3.9.7"
  }
 },
 "nbformat": 4,
 "nbformat_minor": 5
}
